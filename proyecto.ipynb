{
 "cells": [
  {
   "cell_type": "code",
   "execution_count": 1,
   "metadata": {},
   "outputs": [],
   "source": [
    "import pandas as pd"
   ]
  },
  {
   "cell_type": "code",
   "execution_count": 5,
   "metadata": {},
   "outputs": [],
   "source": [
    "#Cargado de archivos\n",
    "diabetes_mellitus  =  pd.read_excel('archivos/diabetes_mellitus.xlsx')\n",
    "matrimonios = pd.read_excel('archivos/matrimonios.xlsx')\n",
    "porcentaje_nacimientos = pd.read_excel('archivos/porcentaje_nacimientos.xlsx')\n",
    "tasaMortalidadInfantil = pd.read_excel('archivos/tasaMortalidadInfantil.xlsx')\n",
    "nacimientosResidenciaMadre = pd.read_excel('archivos/NacimientosResidenciaMadre.xlsx')\n",
    "mortalidadExterna = pd.read_excel('archivos/MortalidadExterna.xlsx')\n",
    "porcentajePesoNacer = pd.read_excel('archivos/PorcentajePesoNacer.xlsx')\n",
    "mortalidadVIH_SIDA = pd.read_excel('archivos/MortalidadVIH_SIDA.xlsx')\n",
    "divorcios = pd.read_excel('archivos/Divorcios.xlsx')\n",
    "defunciones = pd.read_excel('archivos/defunciones.xlsx')\n",
    "\n"
   ]
  }
 ],
 "metadata": {
  "kernelspec": {
   "display_name": "Python 3",
   "language": "python",
   "name": "python3"
  },
  "language_info": {
   "codemirror_mode": {
    "name": "ipython",
    "version": 3
   },
   "file_extension": ".py",
   "mimetype": "text/x-python",
   "name": "python",
   "nbconvert_exporter": "python",
   "pygments_lexer": "ipython3",
   "version": "3.10.0"
  },
  "orig_nbformat": 4
 },
 "nbformat": 4,
 "nbformat_minor": 2
}
